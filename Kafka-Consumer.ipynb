{
 "cells": [
  {
   "cell_type": "code",
   "execution_count": 1,
   "metadata": {
    "collapsed": true
   },
   "outputs": [],
   "source": [
    "import sys\n",
    "import logging\n",
    "import json\n",
    "import ast\n",
    "\n",
    "from kafka import KafkaConsumer"
   ]
  },
  {
   "cell_type": "code",
   "execution_count": 13,
   "metadata": {
    "collapsed": false
   },
   "outputs": [
    {
     "name": "stdout",
     "output_type": "stream",
     "text": [
      "Start consuming ...\n",
      "------\n",
      "779029962309378048\n",
      "RT @robreiner: I urge all Americans to read this.Trump’s Morally Vapid Brand of Ugly Will Be the Ruin of Our Country | Observer https://t.c…\n",
      "======== \n",
      "\n",
      "------\n",
      "779029962556858373\n",
      "Hillary  Clinton  is not fit to be US  president,,,,,,,,,\n",
      "======== \n",
      "\n",
      "------\n",
      "779029962523369472\n",
      "Hillary Clinton Hints She'll Hold Mark Ruffalo to His Pledge to Get Naked On-Screen if She's Elected https://t.co/j3UMM3Jw4U\n",
      "======== \n",
      "\n",
      "------\n",
      "779029962347188224\n",
      "RT @AndyRichter: Only a person living a tremendously privileged life could make a statement like this https://t.co/tS3mQLjsGb\n",
      "======== \n",
      "\n",
      "------\n",
      "779029962321952768\n",
      "RT @AdamSerwer: Trump's \"black outreach\" is really just a repackaging of racist stereotypes as concern https://t.co/WflnlIPPVd https://t.co…\n",
      "======== \n",
      "\n",
      "------\n",
      "779029962389131264\n",
      "@JaredWyand nice Hillary must have failed! Hahaha.\n",
      "======== \n",
      "\n",
      "------\n",
      "779029962699345920\n",
      "RT @kurteichenwald: The issue next week is not the debate. It's if the Chuck Todd-types will proclaim who won based on if HRC coughed or Tr…\n",
      "======== \n",
      "\n",
      "------\n",
      "779029962598645760\n",
      "RT @BenWilhelm1230: Sir... @tedcruz. DON'T. DO. IT. We respect your stand for principle. Endorsing Trump would lump you in with the sick Al…\n",
      "======== \n",
      "\n",
      "------\n",
      "779029962766647296\n",
      "Gee...I wonder why.  Taco Bowl anyone? https://t.co/HgPiEtK0dM\n",
      "======== \n",
      "\n",
      "------\n",
      "779029962808373248\n",
      "RT @FriendlyJMC: Silenced workers who lost jobs to H-1B visa abuse (quietly) speak out https://t.co/kiG9zCs5CU via @DCExaminer Hillary want…\n",
      "======== \n",
      "\n",
      "------\n",
      "779029963202846720\n",
      "RT @jmartNYT: Thoughts, @GregAbbott_TX ?\n",
      "\n",
      "https://t.co/m8Vr3EIb3X\n",
      "======== \n",
      "\n"
     ]
    }
   ],
   "source": [
    "consumer = KafkaConsumer(bootstrap_servers=\"localhost:9092\", auto_offset_reset='latest')\n",
    "consumer.subscribe([\"Election20160922\"])\n",
    "\n",
    "print(\"Start consuming ...\")\n",
    "\n",
    "count = 0\n",
    "for message in consumer:\n",
    "    d = json.loads(json.loads(message.value.decode('utf-8')))\n",
    "    if u'id' in d:\n",
    "        print (\"------\")\n",
    "#        print (d)\n",
    "        print (d[u'id'])\n",
    "        print (d[u'text'])\n",
    "    else:\n",
    "        print (\"Hit rate limit ...\")\n",
    "    print(\"======== \\n\")\n",
    "    count += 1\n",
    "    if count > 10:\n",
    "        break"
   ]
  },
  {
   "cell_type": "code",
   "execution_count": null,
   "metadata": {
    "collapsed": true
   },
   "outputs": [],
   "source": []
  }
 ],
 "metadata": {
  "kernelspec": {
   "display_name": "Anaconda 2.5.0 (Python 3)",
   "language": "python",
   "name": "anaconda_2.5.0_python3"
  },
  "language_info": {
   "codemirror_mode": {
    "name": "ipython",
    "version": 3
   },
   "file_extension": ".py",
   "mimetype": "text/x-python",
   "name": "python",
   "nbconvert_exporter": "python",
   "pygments_lexer": "ipython3",
   "version": "3.5.2"
  }
 },
 "nbformat": 4,
 "nbformat_minor": 0
}
