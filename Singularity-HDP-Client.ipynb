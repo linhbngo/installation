{
 "cells": [
  {
   "cell_type": "markdown",
   "metadata": {},
   "source": [
    "This notebook contains instruction on how to set up a singularity image that can potentially become an ambari agent for HDP"
   ]
  },
  {
   "cell_type": "markdown",
   "metadata": {},
   "source": [
    "~~~\n",
    "$ module add singularity/2.2\n",
    "$ sudo singularity create --size 10000 hdp.img\n",
    "$ sudo singularity bootstrap hdp.img centos.def\n",
    "$ sudo singularity shell --writable --contain hdp.img\n",
    "\n",
    "Singularity.hdp.img> yum install -y wget\n",
    "Singularity.hdp.img> wget -nv http://public-repo-1.hortonworks.com/ambari/centos7/2.x/updates/2.2.2.0/ambari.repo -O /etc/yum.repos.d/ambari.repo\n",
    "Singularity.hdp.img> yum install -y net-tools krb5-workstation openssh-clients rsync ambari-agent sudo\n",
    "Singularity.hdp.img> sudo ambari-agent start\n",
    "~~~"
   ]
  },
  {
   "cell_type": "markdown",
   "metadata": {
    "collapsed": true
   },
   "source": [
    "** Example: Setting up MicroScope for RStudio **"
   ]
  },
  {
   "cell_type": "markdown",
   "metadata": {},
   "source": [
    "Ambari-Agent Configuration\n",
    "~~~\n",
    "[lngo@dsciu001 ~]$ more /etc/ambari-agent/conf/ambari-agent.ini\n",
    "[server]\n",
    "hostname = dscim003.palmetto.clemson.edu\n",
    "url_port = 8440\n",
    "secured_url_port = 8441\n",
    "\n",
    "[agent]\n",
    "prefix = /var/lib/ambari-agent/data\n",
    "loglevel = INFO\n",
    "data_cleanup_interval = 86400\n",
    "data_cleanup_max_age = 2592000\n",
    "data_cleanup_max_size_mb = 100\n",
    "ping_port = 8670\n",
    "cache_dir = /var/lib/ambari-agent/cache\n",
    "tolerate_download_failures = true\n",
    "run_as_user = root\n",
    "parallel_execution = 0\n",
    "alert_grace_period = 5\n",
    "alert_kinit_timeout = 14400000\n",
    "system_resource_overrides = /etc/resource_overrides\n",
    "\n",
    "[security]\n",
    "keysdir = /var/lib/ambari-agent/keys\n",
    "server_crt = ca.crt\n",
    "passphrase_env_var_name = AMBARI_PASSPHRASE\n",
    "\n",
    "[services]\n",
    "pidlookuppath = /var/run/\n",
    "\n",
    "[heartbeat]\n",
    "state_interval = 6\n",
    "dirs = /etc/hadoop,/etc/hadoop/conf,/etc/hbase,/etc/hcatalog,/etc/hive,/etc/oozie,\n",
    "        /etc/sqoop,/etc/ganglia,\n",
    "        /var/run/hadoop,/var/run/zookeeper,/var/run/hbase,/var/run/templeton,/var/run/oozie,\n",
    "        /var/log/hadoop,/var/log/zookeeper,/var/log/hbase,/var/run/templeton,/var/log/hive\n",
    "log_lines_count = 300\n",
    "\n",
    "[logging]\n",
    "syslog_enabled = 0\n",
    "\n",
    "~~~"
   ]
  },
  {
   "cell_type": "markdown",
   "metadata": {},
   "source": [
    "Next, download Microscope from Github, assuming into a directory named `/home/$USER/git/Microscope`. Assume that you receive a node on Palmetto named `node1234` via interactive qsub:\n",
    "\n",
    "~~~\n",
    "$ module add singularity/2.2\n",
    "$ ifconfig\n",
    "$ singularity exec rstudio.img R -e \"options(shiny.host='IP address');shiny::runApp('~/git/Microscope/microscope')\"\n",
    "~~~"
   ]
  },
  {
   "cell_type": "markdown",
   "metadata": {
    "collapsed": true
   },
   "source": [
    "add --bind /local_scratch to support directory sharings, especially for temporary files. /local_scratch needs to be created in container prior to adding --bind flag"
   ]
  }
 ],
 "metadata": {
  "kernelspec": {
   "display_name": "Python 3 (Anaconda)",
   "language": "python",
   "name": "anaconda_py3"
  },
  "language_info": {
   "codemirror_mode": {
    "name": "ipython",
    "version": 3
   },
   "file_extension": ".py",
   "mimetype": "text/x-python",
   "name": "python",
   "nbconvert_exporter": "python",
   "pygments_lexer": "ipython3",
   "version": "3.5.2"
  }
 },
 "nbformat": 4,
 "nbformat_minor": 1
}
