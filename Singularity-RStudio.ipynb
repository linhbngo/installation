{
 "cells": [
  {
   "cell_type": "markdown",
   "metadata": {},
   "source": [
    "This notebook contains instruction on how to set up a singularity image containing RStudio to be run on Palmetto. These steps must be done on a Linux box that you have adminstrative power on"
   ]
  },
  {
   "cell_type": "markdown",
   "metadata": {},
   "source": [
    "~~~\n",
    "$ module add singularity/2.2\n",
    "$ sudo singularity create --size 10000 rstudio.img\n",
    "$ sudo singularity bootstrap rstudio.img centos.def\n",
    "$ sudo singularity shell --writable --contain rstudio.img\n",
    "\n",
    "Singularity.rstudio.img> yum install -y epel-release\n",
    "Singularity.rstudio.img> yum update -y\n",
    "Singularity.rstudio.img> yum install -y R\n",
    "Singularity.rstudio.img> yum install -y mesa-libGL-devel mesa-libGLU-devel libxml2-devel libxslt-devel sudo initscripts xauth xorg libxkbcommon-devel mesa-dri-drivers libpng-devel curl-devel openss-devel\n",
    "Singularity.rstudio.img> yum group install -y \"Development Tools\"\n",
    "Singularity.rstudio.img> yum install -y https://download1.rstudio.org/rstudio-1.0.44-x86_64.rpm\n",
    "Singularity.rstudio.img> yum install -y https://download2.rstudio.org/rstudio-server-rhel-1.0.44-x86_64.rpm\n",
    "~~~"
   ]
  },
  {
   "cell_type": "markdown",
   "metadata": {
    "collapsed": true
   },
   "source": [
    "** Example: Setting up MicroScope for RStudio **"
   ]
  },
  {
   "cell_type": "markdown",
   "metadata": {},
   "source": [
    "We modify the installation scripts from Microscope's GitHub site:\n",
    "\n",
    "~~~\n",
    "Singularity.rstudio.img> sudo R\n",
    "> install.packages(\"shiny\")\n",
    "> library(shiny)\n",
    "> install.packages(\"devtools\")\n",
    "> library(devtools)\n",
    "> devtools::install_github(\"rstudio/rsconnect\")\n",
    "> library(rsconnect)\n",
    "> install.packages(\"d3heatmap\")\n",
    "> library(d3heatmap)\n",
    "> install.packages(\"RColorBrewer\")\n",
    "> library(RColorBrewer)\n",
    "> install.packages(\"htmlwidgets\")\n",
    "> library(htmlwidgets)\n",
    "> install.packages(\"networkD3\")\n",
    "> library(networkD3)\n",
    "> install.packages(\"data.table\")\n",
    "> library(data.table)\n",
    "> install.packages(\"dplyr\")\n",
    "> library(dplyr)\n",
    "> source(\"https://bioconductor.org/biocLite.R\")\n",
    "> biocLite(\"edgeR\")\n",
    "> library(edgeR)\n",
    "> biocLite(\"GO.db\")\n",
    "> library(GO.db)\n",
    "> biocLite(\"goseq\")\n",
    "> library(goseq)\n",
    "> biocLite(\"org.Bt.eg.db\")\n",
    "> biocLite(\"org.Ce.eg.db\")\n",
    "> biocLite(\"org.Cf.eg.db\")\n",
    "> biocLite(\"org.Dm.eg.db\")\n",
    "> biocLite(\"org.Dr.eg.db\")\n",
    "> biocLite(\"org.Hs.eg.db\")\n",
    "> biocLite(\"org.Mm.eg.db\")\n",
    "> biocLite(\"org.Pt.eg.db\")\n",
    "> biocLite(\"org.Rn.eg.db\")\n",
    "> biocLite(\"org.Ss.eg.db\")\n",
    "> biocLite(\"org.Sc.sgd.db\")\n",
    "~~~"
   ]
  },
  {
   "cell_type": "markdown",
   "metadata": {},
   "source": [
    "Next, download Microscope from Github, assuming into a directory named `/home/$USER/git/Microscope`. Assume that you receive a node on Palmetto named `node1234` via interactive qsub:\n",
    "\n",
    "~~~\n",
    "$ module add singularity/2.2\n",
    "$ ifconfig\n",
    "$ singularity exec rstudio.img R -e \"options(shiny.host='IP address');shiny::runApp('~/git/Microscope/microscope')\"\n",
    "~~~"
   ]
  },
  {
   "cell_type": "code",
   "execution_count": null,
   "metadata": {
    "collapsed": true
   },
   "outputs": [],
   "source": []
  }
 ],
 "metadata": {
  "kernelspec": {
   "display_name": "Python 3 (Anaconda)",
   "language": "python",
   "name": "anaconda_py3"
  },
  "language_info": {
   "codemirror_mode": {
    "name": "ipython",
    "version": 3
   },
   "file_extension": ".py",
   "mimetype": "text/x-python",
   "name": "python",
   "nbconvert_exporter": "python",
   "pygments_lexer": "ipython3",
   "version": "3.5.2"
  }
 },
 "nbformat": 4,
 "nbformat_minor": 1
}
