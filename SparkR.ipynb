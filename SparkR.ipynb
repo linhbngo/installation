{
 "cells": [
  {
   "cell_type": "code",
   "execution_count": 22,
   "metadata": {
    "collapsed": true
   },
   "outputs": [],
   "source": [
    "if (nchar(Sys.getenv(\"SPARK_HOME\")) < 1) {\n",
    "  Sys.setenv(SPARK_HOME = \"/usr/hdp/current/spark-client\")\n",
    "}\n",
    "\n",
    "spark_submit_args <- paste(\"--master yarn-client\",\n",
    "                           \"--executor-memory 128g\",\n",
    "                           \"--num-executors 40\",\n",
    "                           \"--executor-cores 8\",\n",
    "                           paste(\"--conf spark.executorEnv.PATH=\",\n",
    "                                 paste(Sys.getenv(\"PATH\"),\n",
    "                                       \"/software/anaconda3/2.5.0/envs/R/bin\",sep=\":\"),\n",
    "                                 sep=\"\"),\n",
    "                           \"sparkr-shell\",sep=\" \")\n",
    "\n",
    "Sys.setenv(\"SPARKR_SUBMIT_ARGS\"=spark_submit_args)"
   ]
  },
  {
   "cell_type": "code",
   "execution_count": 23,
   "metadata": {
    "collapsed": false
   },
   "outputs": [],
   "source": [
    "library(SparkR, lib.loc = c(file.path(Sys.getenv(\"SPARK_HOME\"), \"R\", \"lib\")))"
   ]
  },
  {
   "cell_type": "code",
   "execution_count": 24,
   "metadata": {
    "collapsed": false
   },
   "outputs": [
    {
     "name": "stdout",
     "output_type": "stream",
     "text": [
      "Launching java with spark-submit command /usr/hdp/current/spark-client/bin/spark-submit  --packages com.databricks:spark-csv_2.11:1.2.0 --master yarn-client --executor-memory 128g --num-executors 40 --executor-cores 8 --conf spark.executorEnv.PATH=/software/hdf5/1.10.0/bin:/software/openmpi/1.10.3_gcc610/bin:/software/gcc/5.3.0/bin:/software/zeromq/4.1.5/bin:/software/matlab/R2015a/toolbox/distcomp/bin:/software/matlab/R2015a/bin/glnxa64:/software/matlab/R2015a/bin:/software/anaconda3/2.5.0/bin:/home/lngo/software/jdk1.8.0_91/bin:/home/lngo/software/scala-2.10.4/bin:/usr/lib64/qt-3.3/bin:/bin:/usr/bin:/usr/local/bin:/usr/local/sbin:/usr/sbin:/sbin:/opt/mx/bin:/opt/pbs/default/bin:/opt/pbs/default/sbin:/home/lngo/bin:/software/anaconda3/2.5.0/envs/R/bin sparkr-shell /tmp/Rtmp2zASFq/backend_port6e8e7921ba5b \n"
     ]
    }
   ],
   "source": [
    "sc <- sparkR.init(sparkPackages=\"com.databricks:spark-csv_2.11:1.2.0\")"
   ]
  },
  {
   "cell_type": "code",
   "execution_count": 25,
   "metadata": {
    "collapsed": true
   },
   "outputs": [],
   "source": [
    "sqlContext <- sparkRSQL.init(sc)"
   ]
  },
  {
   "cell_type": "code",
   "execution_count": 26,
   "metadata": {
    "collapsed": false
   },
   "outputs": [
    {
     "data": {
      "text/plain": [
       "   user  system elapsed \n",
       "  0.009   0.001 573.135 "
      ]
     },
     "execution_count": 26,
     "metadata": {},
     "output_type": "execute_result"
    }
   ],
   "source": [
    "ptm <- proc.time()\n",
    "reddit <- read.json(sqlContext, \"hdfs:///datasets/reddit_data/*/*.bz2\")\n",
    "proc.time() - ptm"
   ]
  },
  {
   "cell_type": "code",
   "execution_count": null,
   "metadata": {
    "collapsed": false
   },
   "outputs": [],
   "source": [
    "print (printSchema(reddit))"
   ]
  },
  {
   "cell_type": "code",
   "execution_count": 27,
   "metadata": {
    "collapsed": false
   },
   "outputs": [
    {
     "data": {
      "text/html": [
       "1659361605"
      ],
      "text/latex": [
       "1659361605"
      ],
      "text/markdown": [
       "1659361605"
      ],
      "text/plain": [
       "[1] 1659361605"
      ]
     },
     "execution_count": 27,
     "metadata": {},
     "output_type": "execute_result"
    },
    {
     "data": {
      "text/plain": [
       "   user  system elapsed \n",
       "  0.018   0.006 284.034 "
      ]
     },
     "execution_count": 27,
     "metadata": {},
     "output_type": "execute_result"
    }
   ],
   "source": [
    "ptm <- proc.time()\n",
    "count (reddit)\n",
    "proc.time() - ptm"
   ]
  },
  {
   "cell_type": "code",
   "execution_count": null,
   "metadata": {
    "collapsed": false
   },
   "outputs": [],
   "source": [
    "#sqlContext <- sparkRSQL.init(sc)\n",
    "#df <- read.df(sqlContext, \"hdfs:///repository/reddit/data_0.csv\", source=\"com.databricks.spark.csv\")\n",
    "#head(df)\n",
    "#df <- createDataFrame(sqlContext, faithful)\n",
    "#head(df)"
   ]
  },
  {
   "cell_type": "code",
   "execution_count": null,
   "metadata": {
    "collapsed": false
   },
   "outputs": [],
   "source": [
    "head(reddit)"
   ]
  },
  {
   "cell_type": "code",
   "execution_count": null,
   "metadata": {
    "collapsed": false
   },
   "outputs": [],
   "source": [
    "sparkR.stop()"
   ]
  },
  {
   "cell_type": "code",
   "execution_count": null,
   "metadata": {
    "collapsed": true
   },
   "outputs": [],
   "source": []
  }
 ],
 "metadata": {
  "kernelspec": {
   "display_name": "R 3.3.1",
   "language": "R",
   "name": "r"
  },
  "language_info": {
   "codemirror_mode": "r",
   "file_extension": ".r",
   "mimetype": "text/x-r-source",
   "name": "R",
   "pygments_lexer": "r",
   "version": "3.3.1"
  }
 },
 "nbformat": 4,
 "nbformat_minor": 0
}
