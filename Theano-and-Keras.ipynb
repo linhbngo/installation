{
 "cells": [
  {
   "cell_type": "markdown",
   "metadata": {
    "collapsed": false,
    "slideshow": {
     "slide_type": "slide"
    }
   },
   "source": [
    "## Installation Process for Theano and Keras\n",
    "\n",
    "- Theano installation steps are based on [CentOS 6 Installation Guide](http://deeplearning.net/software/theano_versions/dev/install_centos6.html)\n",
    "- Keras installation steps are based on [Keras Frontpage](https://keras.io/)"
   ]
  },
  {
   "cell_type": "markdown",
   "metadata": {
    "collapsed": true,
    "slideshow": {
     "slide_type": "slide"
    }
   },
   "source": [
    "### Theano\n",
    "\n",
    "Requirements:\n",
    "- Python 2.6+ or 3.3+\n",
    "- NumPy >=1.7.1 <1.11.1\n",
    "- SciPy >=0.11 <0.17.1\n",
    "- BLAS installation (MKL)\n",
    "\n",
    "Optionals:\n",
    "- python-dev, g++ >= 4.2\n",
    "- nose >= 1.3.0\n",
    "- Sphinx >= 0.5.1\n",
    "- pydot-ng\n",
    "- NVIDIA CUDA drivers and SDK\n",
    "- libgpuarray"
   ]
  },
  {
   "cell_type": "code",
   "execution_count": 2,
   "metadata": {
    "collapsed": false,
    "slideshow": {
     "slide_type": "slide"
    }
   },
   "outputs": [
    {
     "name": "stdout",
     "output_type": "stream",
     "text": [
      "1.10.4\n",
      "0.17.0\n",
      "1.3.7\n",
      "1.3.5\n",
      "1.1.2\n"
     ]
    }
   ],
   "source": [
    "import numpy\n",
    "print(numpy.__version__)\n",
    "import scipy\n",
    "print(scipy.__version__)\n",
    "import nose\n",
    "print(nose.__version__)\n",
    "import sphinx\n",
    "print(sphinx.__version__)\n",
    "import mkl\n",
    "print(mkl.__version__)"
   ]
  },
  {
   "cell_type": "code",
   "execution_count": 8,
   "metadata": {
    "collapsed": false,
    "scrolled": true,
    "slideshow": {
     "slide_type": "slide"
    }
   },
   "outputs": [
    {
     "name": "stdout",
     "output_type": "stream",
     "text": [
      "Collecting pydot_ng\n",
      "  Downloading pydot_ng-1.0.0.zip\n",
      "Requirement already satisfied (use --upgrade to upgrade): pyparsing>=2.0.1 in /software/anaconda3/2.5.0/lib/python3.5/site-packages (from pydot_ng)\n",
      "Building wheels for collected packages: pydot-ng\n",
      "  Running setup.py bdist_wheel for pydot-ng ... \u001b[?25l-\b \b\\\b \bdone\n",
      "\u001b[?25h  Stored in directory: /home/lngo/.cache/pip/wheels/4f/09/d5/f96fd2578831e1b9021c634f057ab5306a3e4287efa800de29\n",
      "Successfully built pydot-ng\n",
      "Installing collected packages: pydot-ng\n",
      "Successfully installed pydot-ng-1.0.0\n"
     ]
    }
   ],
   "source": [
    "!pip install --user pydot_ng"
   ]
  },
  {
   "cell_type": "code",
   "execution_count": 12,
   "metadata": {
    "collapsed": false,
    "scrolled": true,
    "slideshow": {
     "slide_type": "slide"
    }
   },
   "outputs": [
    {
     "name": "stdout",
     "output_type": "stream",
     "text": [
      "Collecting Theano from git+ssh://git@github.com/Theano/Theano.git#egg=Theano\n",
      "  Cloning ssh://git@github.com/Theano/Theano.git to /local_scratch/pbs.4812982.pbs02/pip-build-56sh0e11/Theano\n",
      "Installing collected packages: Theano\n",
      "  Running setup.py install for Theano ... \u001b[?25l-\b \b\\\b \b|\b \b/\b \b-\b \b\\\b \b|\b \b/\b \b-\b \b\\\b \b|\b \b/\b \b-\b \b\\\b \b|\b \b/\b \b-\b \b\\\b \b|\b \b/\b \b-\b \b\\\b \b|\b \b/\b \b-\b \b\\\b \b|\b \b/\b \b-\b \b\\\b \b|\b \b/\b \b-\b \b\\\b \b|\b \b/\b \b-\b \b\\\b \b|\b \b/\b \bdone\n",
      "\u001b[?25hSuccessfully installed Theano-0.9.0.dev2\n"
     ]
    }
   ],
   "source": [
    "# Use bleeding-edge installation\n",
    "!pip install --user --no-deps git+https://github.com/Theano/Theano.git#egg=Theano"
   ]
  },
  {
   "cell_type": "markdown",
   "metadata": {
    "slideshow": {
     "slide_type": "slide"
    }
   },
   "source": [
    "The following steps must be done after Theano installation:\n",
    "\n",
    "- Create a file named *.theanorc* file and include the following lines:\n",
    "```\n",
    "[global]\n",
    "gcc.cxxflags=\"-march=core2\"\n",
    "```"
   ]
  },
  {
   "cell_type": "markdown",
   "metadata": {
    "collapsed": false,
    "slideshow": {
     "slide_type": "slide"
    }
   },
   "source": [
    "** Skip libgpuarray, it will take time to set up and figure out how to include GPU acceleration **"
   ]
  },
  {
   "cell_type": "markdown",
   "metadata": {
    "slideshow": {
     "slide_type": "slide"
    }
   },
   "source": [
    "### Keras\n",
    "\n",
    "Keras uses the following dependencies:\n",
    "\n",
    "- NumPy\n",
    "- SciPy\n",
    "- pyyaml\n",
    "- HDF5 and h5py (optional, required if you use model saving/loading functions)\n",
    "\n",
    "Optional but recommended if you use CNNs: \n",
    "- cuDNN *(not needed, this is for GPU acceleration)*"
   ]
  },
  {
   "cell_type": "code",
   "execution_count": 3,
   "metadata": {
    "collapsed": false,
    "slideshow": {
     "slide_type": "slide"
    }
   },
   "outputs": [
    {
     "name": "stdout",
     "output_type": "stream",
     "text": [
      "3.11\n",
      "2.5.0\n"
     ]
    }
   ],
   "source": [
    "import yaml\n",
    "print (yaml.__version__)\n",
    "import h5py\n",
    "print (h5py.__version__)"
   ]
  },
  {
   "cell_type": "code",
   "execution_count": 14,
   "metadata": {
    "collapsed": false,
    "slideshow": {
     "slide_type": "slide"
    }
   },
   "outputs": [
    {
     "name": "stdout",
     "output_type": "stream",
     "text": [
      "Collecting keras\n",
      "  Downloading Keras-1.0.8.tar.gz (142kB)\n",
      "\u001b[K    100% |████████████████████████████████| 143kB 277kB/s \n",
      "\u001b[?25hRequirement already satisfied (use --upgrade to upgrade): theano in /home/lngo/.local/lib/python3.5/site-packages (from keras)\n",
      "Requirement already satisfied (use --upgrade to upgrade): pyyaml in /software/anaconda3/2.5.0/lib/python3.5/site-packages (from keras)\n",
      "Requirement already satisfied (use --upgrade to upgrade): six in /home/lngo/.local/lib/python3.5/site-packages (from keras)\n",
      "Requirement already satisfied (use --upgrade to upgrade): numpy>=1.7.1 in /software/anaconda3/2.5.0/lib/python3.5/site-packages (from theano->keras)\n",
      "Requirement already satisfied (use --upgrade to upgrade): scipy>=0.11 in /software/anaconda3/2.5.0/lib/python3.5/site-packages (from theano->keras)\n",
      "Building wheels for collected packages: keras\n",
      "  Running setup.py bdist_wheel for keras ... \u001b[?25l-\b \b\\\b \bdone\n",
      "\u001b[?25h  Stored in directory: /home/lngo/.cache/pip/wheels/60/d4/f6/c2142843a29a0468324c045fcbe9e9c5cea6c7b3ae093e36b7\n",
      "Successfully built keras\n",
      "Installing collected packages: keras\n",
      "Successfully installed keras-1.0.8\n"
     ]
    }
   ],
   "source": [
    "!pip install --user keras"
   ]
  },
  {
   "cell_type": "markdown",
   "metadata": {
    "slideshow": {
     "slide_type": "slide"
    }
   },
   "source": [
    "## Example\n",
    "\n",
    "Taken from http://machinelearningmastery.com"
   ]
  },
  {
   "cell_type": "code",
   "execution_count": 11,
   "metadata": {
    "collapsed": false,
    "slideshow": {
     "slide_type": "slide"
    }
   },
   "outputs": [
    {
     "name": "stdout",
     "output_type": "stream",
     "text": [
      "--2016-08-31 14:08:27--  http://archive.ics.uci.edu/ml/machine-learning-databases/pima-indians-diabetes/pima-indians-diabetes.data\n",
      "Resolving archive.ics.uci.edu... 128.195.10.249\n",
      "Connecting to archive.ics.uci.edu|128.195.10.249|:80... connected.\n",
      "HTTP request sent, awaiting response... 200 OK\n",
      "Length: 23279 (23K) [text/plain]\n",
      "Saving to: “pima-indians-diabetes.data”\n",
      "\n",
      "100%[======================================>] 23,279      24.0K/s   in 0.9s    \n",
      "\n",
      "2016-08-31 14:08:28 (24.0 KB/s) - “pima-indians-diabetes.data” saved [23279/23279]\n",
      "\n"
     ]
    }
   ],
   "source": [
    "!wget \n",
    "https://raw.githubusercontent.com/\n",
    "    linhbngo/installation/master/pima-indians-diabetes.csv"
   ]
  },
  {
   "cell_type": "code",
   "execution_count": 1,
   "metadata": {
    "collapsed": false,
    "slideshow": {
     "slide_type": "slide"
    }
   },
   "outputs": [
    {
     "name": "stderr",
     "output_type": "stream",
     "text": [
      "Using Theano backend.\n"
     ]
    }
   ],
   "source": [
    "from keras.models import Sequential\n",
    "from keras.layers import Dense\n",
    "import numpy\n",
    "import matplotlib.pyplot as plt\n",
    "# fix random seed for reproducibility\n",
    "seed = 7\n",
    "numpy.random.seed(seed)"
   ]
  },
  {
   "cell_type": "code",
   "execution_count": 2,
   "metadata": {
    "collapsed": false,
    "slideshow": {
     "slide_type": "slide"
    }
   },
   "outputs": [],
   "source": [
    "# load pima indians dataset\n",
    "dataset = numpy.loadtxt(\"pima-indians-diabetes.csv\", delimiter=\",\")\n",
    "# split into input (X) and output (Y) variables\n",
    "X = dataset[:,0:8]\n",
    "Y = dataset[:,8]"
   ]
  },
  {
   "cell_type": "code",
   "execution_count": 3,
   "metadata": {
    "collapsed": true,
    "slideshow": {
     "slide_type": "slide"
    }
   },
   "outputs": [],
   "source": [
    "# create model\n",
    "model = Sequential()\n",
    "model.add(Dense(12, input_dim=8, init='uniform', activation='relu'))\n",
    "model.add(Dense(8, init='uniform', activation='relu'))\n",
    "model.add(Dense(1, init='uniform', activation='sigmoid'))"
   ]
  },
  {
   "cell_type": "code",
   "execution_count": 4,
   "metadata": {
    "collapsed": true,
    "slideshow": {
     "slide_type": "slide"
    }
   },
   "outputs": [],
   "source": [
    "# Compile model\n",
    "model.compile(loss='binary_crossentropy', \n",
    "              optimizer='adam', metrics=['accuracy'])"
   ]
  },
  {
   "cell_type": "code",
   "execution_count": 5,
   "metadata": {
    "collapsed": false,
    "slideshow": {
     "slide_type": "slide"
    }
   },
   "outputs": [
    {
     "name": "stdout",
     "output_type": "stream",
     "text": [
      "dict_keys(['loss', 'acc', 'val_loss', 'val_acc'])\n"
     ]
    }
   ],
   "source": [
    "# Fit the model\n",
    "history = model.fit(X, Y, \n",
    "                    validation_split=0.33, \n",
    "                    nb_epoch=150, \n",
    "                    batch_size=10, verbose=0)\n",
    "# list all data in history\n",
    "print(history.history.keys())"
   ]
  },
  {
   "cell_type": "code",
   "execution_count": 6,
   "metadata": {
    "collapsed": false,
    "scrolled": true,
    "slideshow": {
     "slide_type": "slide"
    }
   },
   "outputs": [
    {
     "data": {
      "image/png": "[encoded data removed]",
      "text/plain": [
       "<matplotlib.figure.Figure at 0x2aaac2ed7710>"
      ]
     },
     "metadata": {},
     "output_type": "display_data"
    }
   ],
   "source": [
    "%matplotlib inline\n",
    "# summarize history for accuracy\n",
    "plt.plot(history.history['acc'])\n",
    "plt.plot(history.history['val_acc'])\n",
    "plt.title('model accuracy')\n",
    "plt.ylabel('accuracy')\n",
    "plt.xlabel('epoch')\n",
    "plt.legend(['train', 'test'], loc='upper left')\n",
    "plt.show()"
   ]
  },
  {
   "cell_type": "code",
   "execution_count": 7,
   "metadata": {
    "collapsed": false,
    "slideshow": {
     "slide_type": "slide"
    }
   },
   "outputs": [
    {
     "data": {
      "image/png": "[encoded data removed]",
      "text/plain": [
       "<matplotlib.figure.Figure at 0x2aaac5faf828>"
      ]
     },
     "metadata": {},
     "output_type": "display_data"
    }
   ],
   "source": [
    "%matplotlib inline\n",
    "# summarize history for loss\n",
    "plt.plot(history.history['loss'])\n",
    "plt.plot(history.history['val_loss'])\n",
    "plt.title('model loss')\n",
    "plt.ylabel('loss')\n",
    "plt.xlabel('epoch')\n",
    "plt.legend(['train', 'test'], loc='upper left')\n",
    "plt.show()"
   ]
  }
 ],
 "metadata": {
  "celltoolbar": "Slideshow",
  "kernelspec": {
   "display_name": "Anaconda 2.5.0 (Python 3)",
   "language": "python",
   "name": "anaconda_2.5.0_python3"
  },
  "language_info": {
   "codemirror_mode": {
    "name": "ipython",
    "version": 3
   },
   "file_extension": ".py",
   "mimetype": "text/x-python",
   "name": "python",
   "nbconvert_exporter": "python",
   "pygments_lexer": "ipython3",
   "version": "3.5.2"
  }
 },
 "nbformat": 4,
 "nbformat_minor": 0
}
