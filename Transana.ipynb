{
 "cells": [
  {
   "cell_type": "markdown",
   "metadata": {},
   "source": [
    "## Set up Transana for Windows 10\n",
    "\n",
    "1. Install Python 2.7 (Recommendation: Anaconda 4.2.0 Python package at https://www.continuum.io/downloads)\n",
    "\n",
    "2. If you already have Anaconda 4.2.0 for Python 3.5 installed, you will need to create a conda environment for Python 2.7:\n",
    "\n",
    "~~~\n",
    "conda conda create -n py27 python=2.7 anaconda\n"
   ]
  }
 ],
 "metadata": {
  "kernelspec": {
   "display_name": "Python 3",
   "language": "python",
   "name": "python3"
  },
  "language_info": {
   "codemirror_mode": {
    "name": "ipython",
    "version": 3
   },
   "file_extension": ".py",
   "mimetype": "text/x-python",
   "name": "python",
   "nbconvert_exporter": "python",
   "pygments_lexer": "ipython3",
   "version": "3.5.2"
  }
 },
 "nbformat": 4,
 "nbformat_minor": 1
}
