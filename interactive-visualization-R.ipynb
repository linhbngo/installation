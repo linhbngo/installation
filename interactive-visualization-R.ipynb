{
 "cells": [
  {
   "cell_type": "code",
   "execution_count": null,
   "metadata": {
    "collapsed": true
   },
   "outputs": [],
   "source": [
    "#$ module load anaconda3/2.5.0\n",
    "#$ source activate R\n",
    "#$ R\n",
    "#  >install.packages(\"devtools\")\n",
    "#  >install_github(\"hadley/tibble\")\n",
    "#  >install_github(\"plotly\")"
   ]
  },
  {
   "cell_type": "code",
   "execution_count": null,
   "metadata": {
    "collapsed": true
   },
   "outputs": [],
   "source": [
    "library(plotly)"
   ]
  },
  {
   "cell_type": "code",
   "execution_count": 13,
   "metadata": {
    "collapsed": false
   },
   "outputs": [
    {
     "name": "stderr",
     "output_type": "stream",
     "text": [
      "No trace type specified:\n",
      "  Based on info supplied, a 'scatter' trace seems appropriate.\n",
      "  Read more about this trace type -> https://plot.ly/r/reference/#scatter\n"
     ]
    },
    {
     "data": {
      "text/html": [
       "<iframe src=\"plotlyJupyterHTML/2bf7c254ffed032b5432ada779db4042.html\" width=\"100%\" height=\"400\" id=\"igraph\" scrolling=\"no\" seamless=\"seamless\" frameBorder=\"0\"> </iframe>"
      ]
     },
     "metadata": {},
     "output_type": "display_data"
    }
   ],
   "source": [
    "set.seed(123)\n",
    "\n",
    "x <- rnorm(1000)\n",
    "y <- rchisq(1000, df = 1, ncp = 0)\n",
    "group <- sample(LETTERS[1:5], size = 1000, replace = T)\n",
    "size <- sample(1:5, size = 1000, replace = T)\n",
    "\n",
    "ds <- data.frame(x, y, group, size)\n",
    "\n",
    "p <- plot_ly(ds, x = x, y = y, mode = \"markers\", split = group, size = size) %>%\n",
    "  layout(title = \"Scatter Plot\")\n",
    "embed_notebook(p)"
   ]
  },
  {
   "cell_type": "code",
   "execution_count": 4,
   "metadata": {
    "collapsed": false
   },
   "outputs": [
    {
     "name": "stderr",
     "output_type": "stream",
     "text": [
      "Loading required package: xts\n",
      "Loading required package: zoo\n",
      "\n",
      "Attaching package: ‘zoo’\n",
      "\n",
      "The following objects are masked from ‘package:base’:\n",
      "\n",
      "    as.Date, as.Date.numeric\n",
      "\n",
      "\n",
      "Attaching package: ‘PerformanceAnalytics’\n",
      "\n",
      "The following object is masked from ‘package:graphics’:\n",
      "\n",
      "    legend\n",
      "\n"
     ]
    }
   ],
   "source": [
    "library(PerformanceAnalytics)"
   ]
  },
  {
   "cell_type": "code",
   "execution_count": 9,
   "metadata": {
    "collapsed": false
   },
   "outputs": [
    {
     "data": {
      "text/html": [
       "<table>\n",
       "<thead><tr><th></th><th scope=col>HAM1</th><th scope=col>HAM2</th><th scope=col>HAM3</th><th scope=col>HAM4</th><th scope=col>HAM5</th><th scope=col>HAM6</th><th scope=col>EDHEC LS EQ</th><th scope=col>SP500 TR</th><th scope=col>US 10Y TR</th><th scope=col>US 3m TR</th><th scope=col>Dates</th></tr></thead>\n",
       "<tbody>\n",
       "\t<tr><th scope=row>1996-01-31</th><td>0.0074</td><td>NA</td><td>0.0349</td><td>0.0222</td><td>NA</td><td>NA</td><td>NA</td><td>0.034</td><td>0.0038</td><td>0.00456</td><td>1996-01-31</td></tr>\n",
       "\t<tr><th scope=row>1996-02-29</th><td>0.0193</td><td>NA</td><td>0.0351</td><td>0.0195</td><td>NA</td><td>NA</td><td>NA</td><td>0.0093</td><td>-0.03532</td><td>0.00398</td><td>1996-02-29</td></tr>\n",
       "\t<tr><th scope=row>1996-03-31</th><td>0.0155</td><td>NA</td><td>0.0258</td><td>-0.0098</td><td>NA</td><td>NA</td><td>NA</td><td>0.0096</td><td>-0.01057</td><td>0.00371</td><td>1996-03-31</td></tr>\n",
       "\t<tr><th scope=row>1996-04-30</th><td>-0.0091</td><td>NA</td><td>0.0449</td><td>0.0236</td><td>NA</td><td>NA</td><td>NA</td><td>0.0147</td><td>-0.01739</td><td>0.00428</td><td>1996-04-30</td></tr>\n",
       "\t<tr><th scope=row>1996-05-31</th><td>0.0076</td><td>NA</td><td>0.0353</td><td>0.0028</td><td>NA</td><td>NA</td><td>NA</td><td>0.0258</td><td>-0.00543</td><td>0.00443</td><td>1996-05-31</td></tr>\n",
       "\t<tr><th scope=row>1996-06-30</th><td>-0.0039</td><td>NA</td><td>-0.0303</td><td>-0.0019</td><td>NA</td><td>NA</td><td>NA</td><td>0.0038</td><td>0.01507</td><td>0.00412</td><td>1996-06-30</td></tr>\n",
       "</tbody>\n",
       "</table>\n"
      ],
      "text/latex": [
       "\\begin{tabular}{r|lllllllllll}\n",
       "  & HAM1 & HAM2 & HAM3 & HAM4 & HAM5 & HAM6 & EDHEC LS EQ & SP500 TR & US 10Y TR & US 3m TR & Dates\\\\\n",
       "\\hline\n",
       "\t1996-01-31 & 0.0074 & NA & 0.0349 & 0.0222 & NA & NA & NA & 0.034 & 0.0038 & 0.00456 & 1996-01-31\\\\\n",
       "\t1996-02-29 & 0.0193 & NA & 0.0351 & 0.0195 & NA & NA & NA & 0.0093 & -0.03532 & 0.00398 & 1996-02-29\\\\\n",
       "\t1996-03-31 & 0.0155 & NA & 0.0258 & -0.0098 & NA & NA & NA & 0.0096 & -0.01057 & 0.00371 & 1996-03-31\\\\\n",
       "\t1996-04-30 & -0.0091 & NA & 0.0449 & 0.0236 & NA & NA & NA & 0.0147 & -0.01739 & 0.00428 & 1996-04-30\\\\\n",
       "\t1996-05-31 & 0.0076 & NA & 0.0353 & 0.0028 & NA & NA & NA & 0.0258 & -0.00543 & 0.00443 & 1996-05-31\\\\\n",
       "\t1996-06-30 & -0.0039 & NA & -0.0303 & -0.0019 & NA & NA & NA & 0.0038 & 0.01507 & 0.00412 & 1996-06-30\\\\\n",
       "\\end{tabular}\n"
      ],
      "text/plain": [
       "              HAM1 HAM2    HAM3    HAM4 HAM5 HAM6 EDHEC LS EQ SP500 TR\n",
       "1996-01-31  0.0074   NA  0.0349  0.0222   NA   NA          NA   0.0340\n",
       "1996-02-29  0.0193   NA  0.0351  0.0195   NA   NA          NA   0.0093\n",
       "1996-03-31  0.0155   NA  0.0258 -0.0098   NA   NA          NA   0.0096\n",
       "1996-04-30 -0.0091   NA  0.0449  0.0236   NA   NA          NA   0.0147\n",
       "1996-05-31  0.0076   NA  0.0353  0.0028   NA   NA          NA   0.0258\n",
       "1996-06-30 -0.0039   NA -0.0303 -0.0019   NA   NA          NA   0.0038\n",
       "           US 10Y TR US 3m TR      Dates\n",
       "1996-01-31   0.00380  0.00456 1996-01-31\n",
       "1996-02-29  -0.03532  0.00398 1996-02-29\n",
       "1996-03-31  -0.01057  0.00371 1996-03-31\n",
       "1996-04-30  -0.01739  0.00428 1996-04-30\n",
       "1996-05-31  -0.00543  0.00443 1996-05-31\n",
       "1996-06-30   0.01507  0.00412 1996-06-30"
      ]
     },
     "execution_count": 9,
     "metadata": {},
     "output_type": "execute_result"
    }
   ],
   "source": [
    "#Load data\n",
    "data(managers)\n",
    "\n",
    "# Convert to data.frame\n",
    "managers.df <- as.data.frame(managers)\n",
    "managers.df$Dates <- index(managers)\n",
    "\n",
    "# See first few rows\n",
    "head(managers.df)"
   ]
  },
  {
   "cell_type": "code",
   "execution_count": 10,
   "metadata": {
    "collapsed": false
   },
   "outputs": [
    {
     "data": {
      "text/plain": [
       "      HAM1                HAM2               HAM3                HAM4         \n",
       " Min.   :-0.094400   Min.   :-0.03710   Min.   :-0.071800   Min.   :-0.17590  \n",
       " 1st Qu.:-0.000025   1st Qu.:-0.00980   1st Qu.:-0.005375   1st Qu.:-0.01985  \n",
       " Median : 0.011150   Median : 0.00820   Median : 0.010200   Median : 0.01375  \n",
       " Mean   : 0.011123   Mean   : 0.01414   Mean   : 0.012447   Mean   : 0.01102  \n",
       " 3rd Qu.: 0.024850   3rd Qu.: 0.02520   3rd Qu.: 0.031375   3rd Qu.: 0.04600  \n",
       " Max.   : 0.069200   Max.   : 0.15560   Max.   : 0.179600   Max.   : 0.15080  \n",
       "                     NA's   :7                                                \n",
       "      HAM5               HAM6           EDHEC LS EQ           SP500 TR        \n",
       " Min.   :-0.13200   Min.   :-0.04040   Min.   :-0.055200   Min.   :-0.144600  \n",
       " 1st Qu.:-0.01640   1st Qu.:-0.00158   1st Qu.:-0.003175   1st Qu.:-0.017327  \n",
       " Median : 0.00380   Median : 0.01285   Median : 0.011000   Median : 0.010950  \n",
       " Mean   : 0.00409   Mean   : 0.01105   Mean   : 0.009545   Mean   : 0.008665  \n",
       " 3rd Qu.: 0.03090   3rd Qu.: 0.02548   3rd Qu.: 0.021450   3rd Qu.: 0.038025  \n",
       " Max.   : 0.17470   Max.   : 0.05830   Max.   : 0.074500   Max.   : 0.097800  \n",
       " NA's   :55         NA's   :68         NA's   :12                             \n",
       "   US 10Y TR            US 3m TR            Dates           \n",
       " Min.   :-0.070920   Min.   :0.000660   Min.   :1996-01-31  \n",
       " 1st Qu.:-0.008515   1st Qu.:0.001570   1st Qu.:1998-10-23  \n",
       " Median : 0.004425   Median :0.003845   Median :2001-07-15  \n",
       " Mean   : 0.004385   Mean   :0.003226   Mean   :2001-07-15  \n",
       " 3rd Qu.: 0.016660   3rd Qu.:0.004395   3rd Qu.:2004-04-07  \n",
       " Max.   : 0.050550   Max.   :0.006580   Max.   :2006-12-31  \n",
       "                                                            "
      ]
     },
     "execution_count": 10,
     "metadata": {},
     "output_type": "execute_result"
    }
   ],
   "source": [
    "summary(managers.df)"
   ]
  },
  {
   "cell_type": "code",
   "execution_count": 12,
   "metadata": {
    "collapsed": false
   },
   "outputs": [
    {
     "data": {
      "text/html": [
       "<iframe src=\"plotlyJupyterHTML/760b49d0967353e3384a48bc4b4830ab.html\" width=\"100%\" height=\"400\" id=\"igraph\" scrolling=\"no\" seamless=\"seamless\" frameBorder=\"0\"> </iframe>"
      ]
     },
     "metadata": {},
     "output_type": "display_data"
    }
   ],
   "source": [
    "# Plot\n",
    "p4 <- plot_ly(managers.df, x = managers.df$Dates, y = managers.df$HAM1, type = \"scatter\", mode = \"lines\", name = \"Manager 1\", fill = \"tonexty\") %>%\n",
    "  layout(title = \"Time Series plot\")\n",
    "embed_notebook(p4)"
   ]
  },
  {
   "cell_type": "code",
   "execution_count": 6,
   "metadata": {
    "collapsed": true
   },
   "outputs": [],
   "source": [
    "library(mlbench)"
   ]
  },
  {
   "cell_type": "code",
   "execution_count": 7,
   "metadata": {
    "collapsed": false
   },
   "outputs": [
    {
     "data": {
      "text/html": [
       "<iframe src=\"plotlyJupyterHTML/c67d475ae74c7bd781decf02934eea89.html\" width=\"100%\" height=\"400\" id=\"igraph\" scrolling=\"no\" seamless=\"seamless\" frameBorder=\"0\"> </iframe>"
      ]
     },
     "metadata": {},
     "output_type": "display_data"
    }
   ],
   "source": [
    "# Get Sonar data\n",
    "data(Sonar)\n",
    "\n",
    "# Use only numeric data\n",
    "rock <- as.matrix(subset(Sonar, Class == \"R\")[,1:59])\n",
    "mine <- as.matrix(subset(Sonar, Class == \"M\")[,1:59])\n",
    "\n",
    "# For rocks\n",
    "p1 <- plot_ly(z = rock, type = \"heatmap\", showscale = F)\n",
    "\n",
    "# For mines\n",
    "p2 <- plot_ly(z = mine, type = \"heatmap\", name = \"test\") %>%\n",
    "  layout(title = \"Mine vs Rock\")\n",
    "\n",
    "# Plot together\n",
    "p3 <- subplot(p1, p2)\n",
    "embed_notebook(p3)"
   ]
  }
 ],
 "metadata": {
  "kernelspec": {
   "display_name": "R 3.3.1",
   "language": "R",
   "name": "r"
  },
  "language_info": {
   "codemirror_mode": "r",
   "file_extension": ".r",
   "mimetype": "text/x-r-source",
   "name": "R",
   "pygments_lexer": "r",
   "version": "3.3.1"
  }
 },
 "nbformat": 4,
 "nbformat_minor": 0
}
