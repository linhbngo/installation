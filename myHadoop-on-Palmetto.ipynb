{
 "cells": [
  {
   "cell_type": "markdown",
   "metadata": {},
   "source": [
    "## Software Preparation"
   ]
  },
  {
   "cell_type": "markdown",
   "metadata": {},
   "source": [
    "- In your home directory on Palmetto, create a directory called `software`:\n",
    "```\n",
    "mkdir  ~/software\n",
    "```\n",
    "- Copy the following files into the newly created directory\n",
    "```\n",
    "cp /scratch3/lngo/myHadoop/hdp.tar.gz  ~/software\n",
    "cp /scratch3/lngo/myHadoop/java.tar.gz  ~/software\n",
    "```\n",
    "- Decompressed the tar files:\n",
    "```\n",
    "cd  ~/software\n",
    "tar –xzf  *.tar.gz\n",
    "```\n",
    "- After decompression, in your software directory there should be two subdirectories:\n",
    "```\n",
    "hadoop-2.2.0.2.1.0.0-92\n",
    "jdk1.7.0_25\n",
    "```"
   ]
  },
  {
   "cell_type": "markdown",
   "metadata": {},
   "source": [
    "## Management Preparation"
   ]
  },
  {
   "cell_type": "markdown",
   "metadata": {},
   "source": [
    "- Copy the following directory to your home directory and decompress\n",
    "```\n",
    "cd ~\n",
    "cp /scratch3/lngo/myHadoop/hdp2.2.tar.gz ~\n",
    "tar xzf hdp2.2.tar.gz\n",
    "```\n",
    "- Open your .bashrc file to edit:\n",
    "```\n",
    "vim   ~/.bashrc\n",
    "```\n",
    "- Add the following line to the end of your .bashrc file:\n",
    "```\n",
    "source   /home/$USER/hdp-2.2/bin/setenv.sh\n",
    "```"
   ]
  },
  {
   "cell_type": "markdown",
   "metadata": {},
   "source": [
    "## Start myHadoop on Palmetto"
   ]
  },
  {
   "cell_type": "markdown",
   "metadata": {},
   "source": [
    "- Go to the hdp-2.2 directory and start up the PBS job for Hadoop cluster\n",
    "```\n",
    "cd   ~/hdp-2.2\n",
    "qsub   start-hadoop.pbs\n",
    "```\n",
    "- You can modify the `start-hadoop.pbs` to request Palmetto resources that match your Hadoop infrastructure design. \n"
   ]
  },
  {
   "cell_type": "markdown",
   "metadata": {},
   "source": [
    "## Example outcome after running `start-hadoop.pbs`"
   ]
  },
  {
   "cell_type": "markdown",
   "metadata": {},
   "source": []
  },
  {
   "cell_type": "markdown",
   "metadata": {},
   "source": [
    "## Customization Note:\n",
    "Environment variables supporting myHadoop are declared in `hdp-2.2/bin/setenv.sh`. You can change them as needed. For example, if you want to use a different Java version rather than 1.7, you can change JAVA_HOME to point to your desired Java installation. "
   ]
  }
 ],
 "metadata": {
  "kernelspec": {
   "display_name": "Python 3",
   "language": "python",
   "name": "python3"
  },
  "language_info": {
   "codemirror_mode": {
    "name": "ipython",
    "version": 3
   },
   "file_extension": ".py",
   "mimetype": "text/x-python",
   "name": "python",
   "nbconvert_exporter": "python",
   "pygments_lexer": "ipython3",
   "version": "3.5.2"
  }
 },
 "nbformat": 4,
 "nbformat_minor": 1
}
